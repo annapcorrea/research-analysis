{
 "cells": [
  {
   "cell_type": "markdown",
   "id": "475f8235",
   "metadata": {},
   "source": [
    "# Data Cleaning"
   ]
  },
  {
   "cell_type": "code",
   "execution_count": 1,
   "id": "8cfdfaf8",
   "metadata": {},
   "outputs": [],
   "source": [
    "import pandas as pd"
   ]
  },
  {
   "cell_type": "code",
   "execution_count": 2,
   "id": "1d4f0229",
   "metadata": {},
   "outputs": [],
   "source": [
    "df = pd.read_csv ('ptsdf.csv')"
   ]
  },
  {
   "cell_type": "code",
   "execution_count": 3,
   "id": "f0e3ed1f",
   "metadata": {},
   "outputs": [],
   "source": [
    "df['Disciplines'] = df['Disciplines'].str.lstrip('Academic Disciplines:')\n",
    "df['Disciplines'] = df['Disciplines'].str.lstrip('\\n')"
   ]
  },
  {
   "cell_type": "code",
   "execution_count": 4,
   "id": "e4ec20ea",
   "metadata": {},
   "outputs": [],
   "source": [
    "df['Keywords'] = df['Keywords'].str.lstrip('Keywords:')\n",
    "df['Keywords'] = df['Keywords'].str.lstrip('\\n')"
   ]
  },
  {
   "cell_type": "code",
   "execution_count": 5,
   "id": "ba6f0d52",
   "metadata": {},
   "outputs": [],
   "source": [
    "df['Program_Icons'] = df['Program_Icons'].str.lstrip('PROGRAM ICONS\\n\\n')\n",
    "df['Program_Icons'] = df['Program_Icons'].str.replace('nstitution','Institution')"
   ]
  },
  {
   "cell_type": "code",
   "execution_count": 6,
   "id": "b8339563",
   "metadata": {},
   "outputs": [
    {
     "name": "stderr",
     "output_type": "stream",
     "text": [
      "/var/folders/76/p2hdmvbd5j138stdw2t1sk4m0000gn/T/ipykernel_4755/3085939278.py:1: FutureWarning: The default value of regex will change from True to False in a future version.\n",
      "  df['Disciplines'] = df['Disciplines'].str.replace(r\"\\n\" , '; ')\n",
      "/var/folders/76/p2hdmvbd5j138stdw2t1sk4m0000gn/T/ipykernel_4755/3085939278.py:2: FutureWarning: The default value of regex will change from True to False in a future version.\n",
      "  df['Text'] = df['Text'].str.replace(r\"\\n\" , '; ')\n",
      "/var/folders/76/p2hdmvbd5j138stdw2t1sk4m0000gn/T/ipykernel_4755/3085939278.py:3: FutureWarning: The default value of regex will change from True to False in a future version.\n",
      "  df['Keywords'] = df['Keywords'].str.replace(r\"\\n\" , '; ')\n",
      "/var/folders/76/p2hdmvbd5j138stdw2t1sk4m0000gn/T/ipykernel_4755/3085939278.py:4: FutureWarning: The default value of regex will change from True to False in a future version.\n",
      "  df['Program_Icons'] = df['Program_Icons'].str.replace(r\"\\n\" , '; ')\n"
     ]
    }
   ],
   "source": [
    "df['Disciplines'] = df['Disciplines'].str.replace(r\"\\n\" , '; ')\n",
    "df['Text'] = df['Text'].str.replace(r\"\\n\" , '; ')\n",
    "df['Keywords'] = df['Keywords'].str.replace(r\"\\n\" , '; ')\n",
    "df['Program_Icons'] = df['Program_Icons'].str.replace(r\"\\n\" , '; ')"
   ]
  },
  {
   "cell_type": "code",
   "execution_count": 7,
   "id": "257745f6",
   "metadata": {},
   "outputs": [
    {
     "name": "stderr",
     "output_type": "stream",
     "text": [
      "/var/folders/76/p2hdmvbd5j138stdw2t1sk4m0000gn/T/ipykernel_4755/1825905067.py:3: SettingWithCopyWarning: \n",
      "A value is trying to be set on a copy of a slice from a DataFrame\n",
      "\n",
      "See the caveats in the documentation: https://pandas.pydata.org/pandas-docs/stable/user_guide/indexing.html#returning-a-view-versus-a-copy\n",
      "  df['Note'].iloc[i] = 'Summer program'\n",
      "/var/folders/76/p2hdmvbd5j138stdw2t1sk4m0000gn/T/ipykernel_4755/1825905067.py:5: SettingWithCopyWarning: \n",
      "A value is trying to be set on a copy of a slice from a DataFrame\n",
      "\n",
      "See the caveats in the documentation: https://pandas.pydata.org/pandas-docs/stable/user_guide/indexing.html#returning-a-view-versus-a-copy\n",
      "  df['Note'].iloc[i] = 'Encourages community college students'\n"
     ]
    }
   ],
   "source": [
    "for i in range(len(df['Note'])):\n",
    "    if df['Note'].iloc[i] == \"For most summer research programs, this is your upcoming status as of the fall. Always check with the individual program's website for details.\":\n",
    "        df['Note'].iloc[i] = 'Summer program'\n",
    "    elif df['Note'].iloc[i] == 'Note: this opportunity encourages applications from community college students.':\n",
    "        df['Note'].iloc[i] = 'Encourages community college students'"
   ]
  },
  {
   "cell_type": "code",
   "execution_count": 8,
   "id": "c2741c5c",
   "metadata": {},
   "outputs": [],
   "source": [
    "df[['Text', 'Academic_Level']] = df['Text'].str.split('Academic Level:', expand=True)"
   ]
  },
  {
   "cell_type": "code",
   "execution_count": 9,
   "id": "c9918ecf",
   "metadata": {},
   "outputs": [],
   "source": [
    "df[['Academic_Level', 'Description']] = df['Academic_Level'].str.split('Description:', expand=True)"
   ]
  },
  {
   "cell_type": "code",
   "execution_count": 10,
   "id": "b77b7b73",
   "metadata": {},
   "outputs": [],
   "source": [
    "del df['Number_of_Institutes']"
   ]
  },
  {
   "cell_type": "markdown",
   "id": "e3dd1646",
   "metadata": {},
   "source": [
    "# Data Analysis "
   ]
  },
  {
   "cell_type": "code",
   "execution_count": 11,
   "id": "dd76a1f7",
   "metadata": {},
   "outputs": [],
   "source": [
    "import matplotlib.pyplot as plt\n",
    "import numpy as np\n",
    "import seaborn as sns\n",
    "from collections import Counter\n",
    "import nltk\n",
    "from nltk.corpus import stopwords\n",
    "from nltk.tokenize import word_tokenize"
   ]
  },
  {
   "cell_type": "markdown",
   "id": "a99d4727",
   "metadata": {},
   "source": [
    "## Name"
   ]
  },
  {
   "cell_type": "code",
   "execution_count": 12,
   "id": "f8e32925",
   "metadata": {},
   "outputs": [],
   "source": [
    "#function created because the following error ocurred: TypeError: expected string or bytes-like object, got 'float'\n",
    "\n",
    "def float_to_string(value):\n",
    "    if isinstance(value, float):\n",
    "        return str(value)\n",
    "    return value"
   ]
  },
  {
   "cell_type": "code",
   "execution_count": 13,
   "id": "f8e1692a",
   "metadata": {},
   "outputs": [],
   "source": [
    "df = df.applymap(float_to_string)"
   ]
  },
  {
   "cell_type": "code",
   "execution_count": 14,
   "id": "bb155639",
   "metadata": {},
   "outputs": [],
   "source": [
    "df['Name_2'] = df['Name'].str.lower()\n",
    "df['Name_2'] = df['Name_2'].apply(word_tokenize)"
   ]
  },
  {
   "cell_type": "code",
   "execution_count": 15,
   "id": "ab8b56d2",
   "metadata": {},
   "outputs": [],
   "source": [
    "stop_words = set(stopwords.words('english'))\n",
    "df['Name_2'] = df['Name_2'].apply(lambda x: [word for word in x if word.isalnum() and word not in stop_words])"
   ]
  },
  {
   "cell_type": "code",
   "execution_count": 16,
   "id": "dbd5df4e",
   "metadata": {},
   "outputs": [],
   "source": [
    "words = [word for sublist in df['Name_2'].tolist() for word in sublist]"
   ]
  },
  {
   "cell_type": "code",
   "execution_count": 17,
   "id": "d87062ec",
   "metadata": {},
   "outputs": [],
   "source": [
    "word_counts = Counter(words)"
   ]
  },
  {
   "cell_type": "code",
   "execution_count": 18,
   "id": "c12202b1",
   "metadata": {},
   "outputs": [],
   "source": [
    "top_words = word_counts.most_common(50)"
   ]
  },
  {
   "cell_type": "code",
   "execution_count": 19,
   "id": "d82799f9",
   "metadata": {
    "scrolled": false
   },
   "outputs": [
    {
     "name": "stdout",
     "output_type": "stream",
     "text": [
      "research: 501\n",
      "program: 429\n",
      "summer: 293\n",
      "reu: 168\n",
      "science: 148\n",
      "undergraduate: 125\n",
      "fellowship: 114\n",
      "undergraduates: 109\n",
      "experience: 108\n",
      "postdoctoral: 82\n",
      "internship: 76\n",
      "graduate: 63\n",
      "engineering: 62\n",
      "training: 59\n",
      "institute: 58\n",
      "scholars: 50\n",
      "center: 50\n",
      "sciences: 47\n",
      "fellowships: 45\n",
      "experiences: 44\n",
      "biology: 43\n",
      "education: 37\n",
      "school: 34\n",
      "materials: 34\n",
      "scholarship: 33\n",
      "minority: 32\n",
      "diversity: 32\n",
      "students: 31\n",
      "physics: 31\n",
      "opportunities: 30\n",
      "nsf: 28\n",
      "student: 28\n",
      "stem: 27\n",
      "programs: 27\n",
      "university: 27\n",
      "site: 24\n",
      "development: 23\n",
      "environmental: 23\n",
      "technology: 22\n",
      "chemistry: 22\n",
      "opportunity: 21\n",
      "data: 21\n",
      "biomedical: 21\n",
      "computational: 20\n",
      "energy: 19\n",
      "college: 19\n",
      "mathematics: 19\n",
      "ecology: 18\n",
      "paid: 18\n",
      "marine: 18\n"
     ]
    }
   ],
   "source": [
    "top_words: ()\n",
    "for word, count in top_words:\n",
    "    \n",
    "    print(f'{word}: {count}')"
   ]
  },
  {
   "cell_type": "code",
   "execution_count": null,
   "id": "1889c68c",
   "metadata": {},
   "outputs": [],
   "source": []
  },
  {
   "cell_type": "markdown",
   "id": "7ebccd14",
   "metadata": {},
   "source": [
    "## Keywords"
   ]
  },
  {
   "cell_type": "code",
   "execution_count": 20,
   "id": "3ebaa17a",
   "metadata": {},
   "outputs": [],
   "source": [
    "df['Keywords_2'] = df['Keywords'].str.lower()\n",
    "df['Keywords_2'] = df['Keywords_2'].apply(word_tokenize)"
   ]
  },
  {
   "cell_type": "code",
   "execution_count": 21,
   "id": "ca7ba76e",
   "metadata": {},
   "outputs": [],
   "source": [
    "stop_words = set(stopwords.words('english'))\n",
    "additional = [':', ';', '(', ')', '.','?', '!', ',', '&']\n",
    "stop_words.update(additional)\n",
    "df['Keywords_2'] = df['Keywords_2'].apply(lambda x: [word for word in x if word.isalnum() and word not in stop_words])"
   ]
  },
  {
   "cell_type": "code",
   "execution_count": 22,
   "id": "685e829c",
   "metadata": {},
   "outputs": [],
   "source": [
    "words_k = [word for sublist in df['Keywords_2'].tolist() for word in sublist]"
   ]
  },
  {
   "cell_type": "code",
   "execution_count": 23,
   "id": "da4153b2",
   "metadata": {},
   "outputs": [],
   "source": [
    "word_counts_k = Counter(words_k)"
   ]
  },
  {
   "cell_type": "code",
   "execution_count": 24,
   "id": "02cd821f",
   "metadata": {},
   "outputs": [],
   "source": [
    "top_words_k = word_counts_k.most_common(20)"
   ]
  },
  {
   "cell_type": "code",
   "execution_count": 25,
   "id": "fd5a2501",
   "metadata": {
    "scrolled": true
   },
   "outputs": [
    {
     "name": "stdout",
     "output_type": "stream",
     "text": [
      "biology: 494\n",
      "science: 488\n",
      "engineering: 367\n",
      "chemistry: 295\n",
      "computational: 227\n",
      "ecology: 213\n",
      "marine: 212\n",
      "physics: 205\n",
      "molecular: 194\n",
      "research: 168\n",
      "environmental: 159\n",
      "education: 156\n",
      "data: 146\n",
      "climate: 144\n",
      "stem: 143\n",
      "health: 143\n",
      "sciences: 140\n",
      "materials: 123\n",
      "analysis: 117\n",
      "modeling: 107\n"
     ]
    }
   ],
   "source": [
    "for word, count in top_words_k:\n",
    "    print(f'{word}: {count}')"
   ]
  },
  {
   "cell_type": "markdown",
   "id": "cbe0a356",
   "metadata": {},
   "source": [
    "## Note"
   ]
  },
  {
   "cell_type": "code",
   "execution_count": 26,
   "id": "ff31cfac",
   "metadata": {
    "scrolled": false
   },
   "outputs": [
    {
     "data": {
      "text/plain": [
       "Summer program                           0.535406\n",
       "Null                                     0.409326\n",
       "Encourages community college students    0.038860\n",
       "8                                        0.005181\n",
       "14                                       0.002591\n",
       "10                                       0.001727\n",
       "16                                       0.001727\n",
       "11                                       0.001727\n",
       "15                                       0.000864\n",
       "17                                       0.000864\n",
       "12                                       0.000864\n",
       "9                                        0.000864\n",
       "Name: Note, dtype: float64"
      ]
     },
     "execution_count": 26,
     "metadata": {},
     "output_type": "execute_result"
    }
   ],
   "source": [
    "#shows incorrect number, cells below correct it.\n",
    "\n",
    "df['Note'].value_counts(normalize=True)"
   ]
  },
  {
   "cell_type": "code",
   "execution_count": 27,
   "id": "42bbf421",
   "metadata": {
    "scrolled": true
   },
   "outputs": [],
   "source": [
    "df['Note_2'] = df['Academic_Level'].apply(lambda x: 'cc college' if (x and 'community college' in x.lower()) else 'Null')\n"
   ]
  },
  {
   "cell_type": "code",
   "execution_count": 28,
   "id": "6d132f95",
   "metadata": {
    "scrolled": true
   },
   "outputs": [
    {
     "data": {
      "text/plain": [
       "Null          0.725389\n",
       "cc college    0.274611\n",
       "Name: Note_2, dtype: float64"
      ]
     },
     "execution_count": 28,
     "metadata": {},
     "output_type": "execute_result"
    }
   ],
   "source": [
    "df['Note_2'].value_counts(normalize=True)"
   ]
  },
  {
   "cell_type": "markdown",
   "id": "e7ccea56",
   "metadata": {},
   "source": [
    "## Discipline"
   ]
  },
  {
   "cell_type": "code",
   "execution_count": 29,
   "id": "6dd3cbe9",
   "metadata": {},
   "outputs": [
    {
     "name": "stdout",
     "output_type": "stream",
     "text": [
      "sciences: 1698\n",
      "engineering: 895\n",
      "biology: 840\n",
      "stem: 426\n",
      "fields: 426\n",
      "environmental: 342\n",
      "genomics: 307\n",
      "computer: 296\n",
      "general: 250\n",
      "medical: 237\n",
      "chemistry: 233\n",
      "science: 229\n",
      "physics: 226\n",
      "mathematics: 222\n",
      "biochemistry: 222\n",
      "molecular: 212\n",
      "genetics: 206\n",
      "computational: 198\n",
      "cellular: 189\n",
      "neuroscience: 173\n"
     ]
    }
   ],
   "source": [
    "df['Discipline_2'] = df['Disciplines'].str.lower()\n",
    "df['Discipline_2'] = df['Discipline_2'].apply(word_tokenize)\n",
    "\n",
    "df['Discipline_2'] = df['Discipline_2'].apply(lambda x: [word for word in x if word.isalnum() and word not in stop_words])\n",
    "\n",
    "words_d = [word for sublist in df['Discipline_2'].tolist() for word in sublist]\n",
    "\n",
    "word_counts_d = Counter(words_d)\n",
    "\n",
    "top_words_d = word_counts_d.most_common(20)\n",
    "\n",
    "for word, count in top_words_d:\n",
    "    print(f'{word}: {count}')"
   ]
  },
  {
   "cell_type": "markdown",
   "id": "110916d7",
   "metadata": {},
   "source": [
    "## Academic Level"
   ]
  },
  {
   "cell_type": "code",
   "execution_count": 30,
   "id": "8f2e127d",
   "metadata": {},
   "outputs": [],
   "source": [
    "def rewrite_education(value):\n",
    "    if pd.notna(value):\n",
    "        if 'high school' in value.lower():\n",
    "            return 'High school'\n",
    "        elif 'undergraduate' in value.lower():\n",
    "            return 'Undergraduate'\n",
    "    return 'Graduate'\n"
   ]
  },
  {
   "cell_type": "code",
   "execution_count": 31,
   "id": "2a42e459",
   "metadata": {},
   "outputs": [],
   "source": [
    "df['Academic_Level'] = df['Academic_Level'].apply(rewrite_education)"
   ]
  },
  {
   "cell_type": "code",
   "execution_count": 32,
   "id": "62c8e8f8",
   "metadata": {},
   "outputs": [
    {
     "data": {
      "text/plain": [
       "Undergraduate    0.621762\n",
       "Graduate         0.303109\n",
       "High school      0.075130\n",
       "Name: Academic_Level, dtype: float64"
      ]
     },
     "execution_count": 32,
     "metadata": {},
     "output_type": "execute_result"
    }
   ],
   "source": [
    "df['Academic_Level'].value_counts(normalize= True)"
   ]
  },
  {
   "cell_type": "code",
   "execution_count": 34,
   "id": "51b0fe21",
   "metadata": {},
   "outputs": [],
   "source": [
    "df.to_csv('df_pts.csv', index=False)"
   ]
  },
  {
   "cell_type": "code",
   "execution_count": null,
   "id": "d446f720",
   "metadata": {},
   "outputs": [],
   "source": []
  }
 ],
 "metadata": {
  "kernelspec": {
   "display_name": ".venv",
   "language": "python",
   "name": ".venv"
  },
  "language_info": {
   "codemirror_mode": {
    "name": "ipython",
    "version": 3
   },
   "file_extension": ".py",
   "mimetype": "text/x-python",
   "name": "python",
   "nbconvert_exporter": "python",
   "pygments_lexer": "ipython3",
   "version": "3.11.4"
  }
 },
 "nbformat": 4,
 "nbformat_minor": 5
}
